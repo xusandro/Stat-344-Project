{
 "cells": [
  {
   "cell_type": "code",
   "execution_count": null,
   "id": "a9f1fb67-b7a4-4de8-807a-683e94c54e1f",
   "metadata": {},
   "outputs": [],
   "source": [
    "insurance_df <- read.csv(\"insurance.csv\")\n",
    "head(insurance_df)\n",
    "N <- nrow(insurance_df)\n",
    "N"
   ]
  },
  {
   "cell_type": "code",
   "execution_count": 63,
   "id": "d0d7c3f5-ffbf-4891-af12-645dd3ec08d6",
   "metadata": {
    "tags": []
   },
   "outputs": [
    {
     "data": {
      "text/html": [
       "0.299008193330648"
      ],
      "text/latex": [
       "0.299008193330648"
      ],
      "text/markdown": [
       "0.299008193330648"
      ],
      "text/plain": [
       "[1] 0.2990082"
      ]
     },
     "metadata": {},
     "output_type": "display_data"
    },
    {
     "data": {
      "text/html": [
       "<table class=\"dataframe\">\n",
       "<caption>A data.frame: 4 × 1</caption>\n",
       "<thead>\n",
       "\t<tr><th></th><th scope=col>region</th></tr>\n",
       "\t<tr><th></th><th scope=col>&lt;chr&gt;</th></tr>\n",
       "</thead>\n",
       "<tbody>\n",
       "\t<tr><th scope=row>1</th><td>southwest</td></tr>\n",
       "\t<tr><th scope=row>2</th><td>southeast</td></tr>\n",
       "\t<tr><th scope=row>4</th><td>northwest</td></tr>\n",
       "\t<tr><th scope=row>9</th><td>northeast</td></tr>\n",
       "</tbody>\n",
       "</table>\n"
      ],
      "text/latex": [
       "A data.frame: 4 × 1\n",
       "\\begin{tabular}{r|l}\n",
       "  & region\\\\\n",
       "  & <chr>\\\\\n",
       "\\hline\n",
       "\t1 & southwest\\\\\n",
       "\t2 & southeast\\\\\n",
       "\t4 & northwest\\\\\n",
       "\t9 & northeast\\\\\n",
       "\\end{tabular}\n"
      ],
      "text/markdown": [
       "\n",
       "A data.frame: 4 × 1\n",
       "\n",
       "| <!--/--> | region &lt;chr&gt; |\n",
       "|---|---|\n",
       "| 1 | southwest |\n",
       "| 2 | southeast |\n",
       "| 4 | northwest |\n",
       "| 9 | northeast |\n",
       "\n"
      ],
      "text/plain": [
       "  region   \n",
       "1 southwest\n",
       "2 southeast\n",
       "4 northwest\n",
       "9 northeast"
      ]
     },
     "metadata": {},
     "output_type": "display_data"
    }
   ],
   "source": [
    "y_p <- insurance_df['charges']\n",
    "x_p <- insurance_df['bmi']\n",
    "cor(insurance_df$charges, insurance_df$age)\n",
    "unique(insurance_df['region'])"
   ]
  },
  {
   "cell_type": "markdown",
   "id": "b37f4018-243d-489f-ad4e-28eb811b6173",
   "metadata": {},
   "source": [
    "# Simple Random Sampling"
   ]
  },
  {
   "cell_type": "code",
   "execution_count": 60,
   "id": "3e40ebf5-77e0-4147-8386-9a34a997558c",
   "metadata": {
    "tags": []
   },
   "outputs": [
    {
     "data": {
      "text/html": [
       "<table class=\"dataframe\">\n",
       "<caption>A data.frame: 6 × 7</caption>\n",
       "<thead>\n",
       "\t<tr><th></th><th scope=col>age</th><th scope=col>sex</th><th scope=col>bmi</th><th scope=col>children</th><th scope=col>smoker</th><th scope=col>region</th><th scope=col>charges</th></tr>\n",
       "\t<tr><th></th><th scope=col>&lt;int&gt;</th><th scope=col>&lt;chr&gt;</th><th scope=col>&lt;dbl&gt;</th><th scope=col>&lt;int&gt;</th><th scope=col>&lt;chr&gt;</th><th scope=col>&lt;chr&gt;</th><th scope=col>&lt;dbl&gt;</th></tr>\n",
       "</thead>\n",
       "<tbody>\n",
       "\t<tr><th scope=row>1017</th><td>19</td><td>female</td><td>24.605</td><td>1</td><td>no </td><td>northwest</td><td> 2709.244</td></tr>\n",
       "\t<tr><th scope=row>679</th><td>56</td><td>male  </td><td>36.100</td><td>3</td><td>no </td><td>southwest</td><td>12363.547</td></tr>\n",
       "\t<tr><th scope=row>129</th><td>32</td><td>female</td><td>17.765</td><td>2</td><td>yes</td><td>northwest</td><td>32734.186</td></tr>\n",
       "\t<tr><th scope=row>930</th><td>41</td><td>male  </td><td>34.210</td><td>1</td><td>no </td><td>southeast</td><td> 6289.755</td></tr>\n",
       "\t<tr><th scope=row>471</th><td>27</td><td>male  </td><td>32.670</td><td>0</td><td>no </td><td>southeast</td><td> 2497.038</td></tr>\n",
       "\t<tr><th scope=row>299</th><td>31</td><td>male  </td><td>34.390</td><td>3</td><td>yes</td><td>northwest</td><td>38746.355</td></tr>\n",
       "</tbody>\n",
       "</table>\n"
      ],
      "text/latex": [
       "A data.frame: 6 × 7\n",
       "\\begin{tabular}{r|lllllll}\n",
       "  & age & sex & bmi & children & smoker & region & charges\\\\\n",
       "  & <int> & <chr> & <dbl> & <int> & <chr> & <chr> & <dbl>\\\\\n",
       "\\hline\n",
       "\t1017 & 19 & female & 24.605 & 1 & no  & northwest &  2709.244\\\\\n",
       "\t679 & 56 & male   & 36.100 & 3 & no  & southwest & 12363.547\\\\\n",
       "\t129 & 32 & female & 17.765 & 2 & yes & northwest & 32734.186\\\\\n",
       "\t930 & 41 & male   & 34.210 & 1 & no  & southeast &  6289.755\\\\\n",
       "\t471 & 27 & male   & 32.670 & 0 & no  & southeast &  2497.038\\\\\n",
       "\t299 & 31 & male   & 34.390 & 3 & yes & northwest & 38746.355\\\\\n",
       "\\end{tabular}\n"
      ],
      "text/markdown": [
       "\n",
       "A data.frame: 6 × 7\n",
       "\n",
       "| <!--/--> | age &lt;int&gt; | sex &lt;chr&gt; | bmi &lt;dbl&gt; | children &lt;int&gt; | smoker &lt;chr&gt; | region &lt;chr&gt; | charges &lt;dbl&gt; |\n",
       "|---|---|---|---|---|---|---|---|\n",
       "| 1017 | 19 | female | 24.605 | 1 | no  | northwest |  2709.244 |\n",
       "| 679 | 56 | male   | 36.100 | 3 | no  | southwest | 12363.547 |\n",
       "| 129 | 32 | female | 17.765 | 2 | yes | northwest | 32734.186 |\n",
       "| 930 | 41 | male   | 34.210 | 1 | no  | southeast |  6289.755 |\n",
       "| 471 | 27 | male   | 32.670 | 0 | no  | southeast |  2497.038 |\n",
       "| 299 | 31 | male   | 34.390 | 3 | yes | northwest | 38746.355 |\n",
       "\n"
      ],
      "text/plain": [
       "     age sex    bmi    children smoker region    charges  \n",
       "1017 19  female 24.605 1        no     northwest  2709.244\n",
       "679  56  male   36.100 3        no     southwest 12363.547\n",
       "129  32  female 17.765 2        yes    northwest 32734.186\n",
       "930  41  male   34.210 1        no     southeast  6289.755\n",
       "471  27  male   32.670 0        no     southeast  2497.038\n",
       "299  31  male   34.390 3        yes    northwest 38746.355"
      ]
     },
     "metadata": {},
     "output_type": "display_data"
    }
   ],
   "source": [
    "ybar_pop <- mean(insurance_df$charges)\n",
    "xbar_pop <- mean(insurance_df$age)\n",
    "\n",
    "n <- 150\n",
    "set.seed(1)\n",
    "SRS.index <- sample.int(N, n, replace = FALSE)\n",
    "insurance_s <- insurance_df[SRS.index, ]\n",
    "head(insurance_s)"
   ]
  },
  {
   "cell_type": "code",
   "execution_count": 59,
   "id": "c1a905d2-bc98-44fd-8e2d-7cd8374bd28c",
   "metadata": {
    "tags": []
   },
   "outputs": [
    {
     "data": {
      "text/html": [
       "13434.8527947333"
      ],
      "text/latex": [
       "13434.8527947333"
      ],
      "text/markdown": [
       "13434.8527947333"
      ],
      "text/plain": [
       "[1] 13434.85"
      ]
     },
     "metadata": {},
     "output_type": "display_data"
    },
    {
     "data": {
      "text/html": [
       "1007.05794263052"
      ],
      "text/latex": [
       "1007.05794263052"
      ],
      "text/markdown": [
       "1007.05794263052"
      ],
      "text/plain": [
       "[1] 1007.058"
      ]
     },
     "metadata": {},
     "output_type": "display_data"
    },
    {
     "data": {
      "text/html": [
       "<style>\n",
       ".list-inline {list-style: none; margin:0; padding: 0}\n",
       ".list-inline>li {display: inline-block}\n",
       ".list-inline>li:not(:last-child)::after {content: \"\\00b7\"; padding: 0 .5ex}\n",
       "</style>\n",
       "<ol class=list-inline><li>11461.0192271775</li><li>15408.6863622891</li></ol>\n"
      ],
      "text/latex": [
       "\\begin{enumerate*}\n",
       "\\item 11461.0192271775\n",
       "\\item 15408.6863622891\n",
       "\\end{enumerate*}\n"
      ],
      "text/markdown": [
       "1. 11461.0192271775\n",
       "2. 15408.6863622891\n",
       "\n",
       "\n"
      ],
      "text/plain": [
       "[1] 11461.02 15408.69"
      ]
     },
     "metadata": {},
     "output_type": "display_data"
    }
   ],
   "source": [
    "# vanilla\n",
    "ybar_sam <- mean(insurance_s$charges)\n",
    "xbar_sam <- mean(insurance_s$age)\n",
    "ybar_sam\n",
    "sd_val_y <- sqrt((1-n/N) * var(insurance_s$charges)/n)\n",
    "sd_val_y\n",
    "CI_val_y <- c(ybar_sam - 1.96*sd_val_y, ybar_sam + 1.96*sd_val_y)\n",
    "CI_val_y"
   ]
  },
  {
   "cell_type": "code",
   "execution_count": 58,
   "id": "23e7ccd1-b562-473a-91ba-a3360f11c63a",
   "metadata": {
    "tags": []
   },
   "outputs": [
    {
     "data": {
      "text/html": [
       "13270.4222651413"
      ],
      "text/latex": [
       "13270.4222651413"
      ],
      "text/markdown": [
       "13270.4222651413"
      ],
      "text/plain": [
       "[1] 13270.42"
      ]
     },
     "metadata": {},
     "output_type": "display_data"
    },
    {
     "data": {
      "text/html": [
       "13301.5306797217"
      ],
      "text/latex": [
       "13301.5306797217"
      ],
      "text/markdown": [
       "13301.5306797217"
      ],
      "text/plain": [
       "[1] 13301.53"
      ]
     },
     "metadata": {},
     "output_type": "display_data"
    },
    {
     "data": {
      "text/html": [
       "1338995966.71313"
      ],
      "text/latex": [
       "1338995966.71313"
      ],
      "text/markdown": [
       "1338995966.71313"
      ],
      "text/plain": [
       "[1] 1338995967"
      ]
     },
     "metadata": {},
     "output_type": "display_data"
    },
    {
     "name": "stdout",
     "output_type": "stream",
     "text": [
      "[1] \" \"\n"
     ]
    },
    {
     "data": {
      "text/html": [
       "2815.29668211839"
      ],
      "text/latex": [
       "2815.29668211839"
      ],
      "text/markdown": [
       "2815.29668211839"
      ],
      "text/plain": [
       "[1] 2815.297"
      ]
     },
     "metadata": {},
     "output_type": "display_data"
    },
    {
     "data": {
      "text/html": [
       "<style>\n",
       ".list-inline {list-style: none; margin:0; padding: 0}\n",
       ".list-inline>li {display: inline-block}\n",
       ".list-inline>li:not(:last-child)::after {content: \"\\00b7\"; padding: 0 .5ex}\n",
       "</style>\n",
       "<ol class=list-inline><li>7783.54918276961</li><li>18819.5121766737</li></ol>\n"
      ],
      "text/latex": [
       "\\begin{enumerate*}\n",
       "\\item 7783.54918276961\n",
       "\\item 18819.5121766737\n",
       "\\end{enumerate*}\n"
      ],
      "text/markdown": [
       "1. 7783.54918276961\n",
       "2. 18819.5121766737\n",
       "\n",
       "\n"
      ],
      "text/plain": [
       "[1]  7783.549 18819.512"
      ]
     },
     "metadata": {},
     "output_type": "display_data"
    }
   ],
   "source": [
    "# ratio\n",
    "ratio_est <- ybar_sam/xbar_sam * xbar_pop\n",
    "ybar_pop\n",
    "ratio_est #ratio estimate\n",
    "Se2 <- sum((y_p - ybar_sam/xbar_sam * x_p)^2)/(n-1)\n",
    "Se2\n",
    "\n",
    "print(\" \")\n",
    "sd_rat_y <- sqrt((1-n/N) * Se2/n)\n",
    "sd_rat_y\n",
    "CI_rat_y <- c(ratio_est - 1.96*sd_rat_y, ratio_est + 1.96*sd_rat_y)\n",
    "CI_rat_y "
   ]
  },
  {
   "cell_type": "code",
   "execution_count": 61,
   "id": "22d5e467-f386-4d2a-8acf-edc9e9277664",
   "metadata": {
    "tags": []
   },
   "outputs": [
    {
     "data": {
      "text/plain": [
       "\n",
       "Call:\n",
       "lm(formula = charges ~ age, data = insurance_s)\n",
       "\n",
       "Residuals:\n",
       "   Min     1Q Median     3Q    Max \n",
       " -7911  -6688  -5959  -4365  47581 \n",
       "\n",
       "Coefficients:\n",
       "            Estimate Std. Error t value Pr(>|t|)    \n",
       "(Intercept)  1872.00    3066.64   0.610 0.542506    \n",
       "age           291.99      73.04   3.998 0.000101 ***\n",
       "---\n",
       "Signif. codes:  0 ‘***’ 0.001 ‘**’ 0.01 ‘*’ 0.05 ‘.’ 0.1 ‘ ’ 1\n",
       "\n",
       "Residual standard error: 12480 on 148 degrees of freedom\n",
       "Multiple R-squared:  0.09745,\tAdjusted R-squared:  0.09136 \n",
       "F-statistic: 15.98 on 1 and 148 DF,  p-value: 0.0001006\n"
      ]
     },
     "metadata": {},
     "output_type": "display_data"
    },
    {
     "data": {
      "text/html": [
       "1321313035.89649"
      ],
      "text/latex": [
       "1321313035.89649"
      ],
      "text/markdown": [
       "1321313035.89649"
      ],
      "text/plain": [
       "[1] 1321313036"
      ]
     },
     "metadata": {},
     "output_type": "display_data"
    },
    {
     "data": {
      "text/html": [
       "2796.64533776039"
      ],
      "text/latex": [
       "2796.64533776039"
      ],
      "text/markdown": [
       "2796.64533776039"
      ],
      "text/plain": [
       "[1] 2796.645"
      ]
     },
     "metadata": {},
     "output_type": "display_data"
    },
    {
     "data": {
      "text/html": [
       "<style>\n",
       ".list-inline {list-style: none; margin:0; padding: 0}\n",
       ".list-inline>li {display: inline-block}\n",
       ".list-inline>li:not(:last-child)::after {content: \"\\00b7\"; padding: 0 .5ex}\n",
       "</style>\n",
       "<ol class=list-inline><li>7838.63448776543</li><li>18801.4842117861</li></ol>\n"
      ],
      "text/latex": [
       "\\begin{enumerate*}\n",
       "\\item 7838.63448776543\n",
       "\\item 18801.4842117861\n",
       "\\end{enumerate*}\n"
      ],
      "text/markdown": [
       "1. 7838.63448776543\n",
       "2. 18801.4842117861\n",
       "\n",
       "\n"
      ],
      "text/plain": [
       "[1]  7838.634 18801.484"
      ]
     },
     "metadata": {},
     "output_type": "display_data"
    }
   ],
   "source": [
    "# regression\n",
    "summary(lm(charges~age, data=insurance_s))\n",
    "regr_est <- 1872+291.99 * xbar_pop\n",
    "Se2_r <- sum((y_p - (1872+291.99 * x_p))^2)/(n-1)\n",
    "Se2_r\n",
    "sd_rgr_y <- sqrt((1-n/N) * Se2_r/n)\n",
    "sd_rgr_y\n",
    "CI_rgr_y <- c(regr_est - 1.96*sd_rgr_y, regr_est + 1.96*sd_rgr_y)\n",
    "CI_rgr_y "
   ]
  },
  {
   "cell_type": "code",
   "execution_count": 57,
   "id": "73a02aa1-8888-44a1-8033-2d8ace458f5a",
   "metadata": {
    "tags": []
   },
   "outputs": [
    {
     "data": {
      "text/html": [
       "13270.4222651413"
      ],
      "text/latex": [
       "13270.4222651413"
      ],
      "text/markdown": [
       "13270.4222651413"
      ],
      "text/plain": [
       "[1] 13270.42"
      ]
     },
     "metadata": {},
     "output_type": "display_data"
    },
    {
     "data": {
      "text/html": [
       "13434.8527947333"
      ],
      "text/latex": [
       "13434.8527947333"
      ],
      "text/markdown": [
       "13434.8527947333"
      ],
      "text/plain": [
       "[1] 13434.85"
      ]
     },
     "metadata": {},
     "output_type": "display_data"
    },
    {
     "data": {
      "text/html": [
       "13301.5306797217"
      ],
      "text/latex": [
       "13301.5306797217"
      ],
      "text/markdown": [
       "13301.5306797217"
      ],
      "text/plain": [
       "[1] 13301.53"
      ]
     },
     "metadata": {},
     "output_type": "display_data"
    },
    {
     "data": {
      "text/html": [
       "13320.0593497758"
      ],
      "text/latex": [
       "13320.0593497758"
      ],
      "text/markdown": [
       "13320.0593497758"
      ],
      "text/plain": [
       "[1] 13320.06"
      ]
     },
     "metadata": {},
     "output_type": "display_data"
    }
   ],
   "source": [
    "ybar_pop\n",
    "ybar_sam\n",
    "ratio_est\n",
    "regr_est"
   ]
  }
 ],
 "metadata": {
  "kernelspec": {
   "display_name": "R",
   "language": "R",
   "name": "ir"
  },
  "language_info": {
   "codemirror_mode": "r",
   "file_extension": ".r",
   "mimetype": "text/x-r-source",
   "name": "R",
   "pygments_lexer": "r",
   "version": "4.2.2"
  },
  "widgets": {
   "application/vnd.jupyter.widget-state+json": {
    "state": {},
    "version_major": 2,
    "version_minor": 0
   }
  }
 },
 "nbformat": 4,
 "nbformat_minor": 5
}
