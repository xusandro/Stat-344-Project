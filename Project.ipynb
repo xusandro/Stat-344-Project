{
 "cells": [
  {
   "cell_type": "code",
   "execution_count": null,
   "id": "a9f1fb67-b7a4-4de8-807a-683e94c54e1f",
   "metadata": {},
   "outputs": [],
   "source": [
    "sadsad11"
   ]
  }
 ],
 "metadata": {
  "kernelspec": {
   "display_name": "R",
   "language": "R",
   "name": "ir"
  },
  "language_info": {
   "codemirror_mode": "r",
   "file_extension": ".r",
   "mimetype": "text/x-r-source",
   "name": "R",
   "pygments_lexer": "r",
   "version": "4.2.2"
  },
  "widgets": {
   "application/vnd.jupyter.widget-state+json": {
    "state": {},
    "version_major": 2,
    "version_minor": 0
   }
  }
 },
 "nbformat": 4,
 "nbformat_minor": 5
}
