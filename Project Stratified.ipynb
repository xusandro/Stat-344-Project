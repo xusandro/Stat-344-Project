{
 "cells": [
  {
   "cell_type": "code",
   "execution_count": 1,
   "id": "a9f1fb67-b7a4-4de8-807a-683e94c54e1f",
   "metadata": {
    "tags": []
   },
   "outputs": [
    {
     "data": {
      "text/html": [
       "<table class=\"dataframe\">\n",
       "<caption>A data.frame: 6 × 7</caption>\n",
       "<thead>\n",
       "\t<tr><th></th><th scope=col>age</th><th scope=col>sex</th><th scope=col>bmi</th><th scope=col>children</th><th scope=col>smoker</th><th scope=col>region</th><th scope=col>charges</th></tr>\n",
       "\t<tr><th></th><th scope=col>&lt;int&gt;</th><th scope=col>&lt;chr&gt;</th><th scope=col>&lt;dbl&gt;</th><th scope=col>&lt;int&gt;</th><th scope=col>&lt;chr&gt;</th><th scope=col>&lt;chr&gt;</th><th scope=col>&lt;dbl&gt;</th></tr>\n",
       "</thead>\n",
       "<tbody>\n",
       "\t<tr><th scope=row>1</th><td>19</td><td>female</td><td>27.900</td><td>0</td><td>yes</td><td>southwest</td><td>16884.924</td></tr>\n",
       "\t<tr><th scope=row>2</th><td>18</td><td>male  </td><td>33.770</td><td>1</td><td>no </td><td>southeast</td><td> 1725.552</td></tr>\n",
       "\t<tr><th scope=row>3</th><td>28</td><td>male  </td><td>33.000</td><td>3</td><td>no </td><td>southeast</td><td> 4449.462</td></tr>\n",
       "\t<tr><th scope=row>4</th><td>33</td><td>male  </td><td>22.705</td><td>0</td><td>no </td><td>northwest</td><td>21984.471</td></tr>\n",
       "\t<tr><th scope=row>5</th><td>32</td><td>male  </td><td>28.880</td><td>0</td><td>no </td><td>northwest</td><td> 3866.855</td></tr>\n",
       "\t<tr><th scope=row>6</th><td>31</td><td>female</td><td>25.740</td><td>0</td><td>no </td><td>southeast</td><td> 3756.622</td></tr>\n",
       "</tbody>\n",
       "</table>\n"
      ],
      "text/latex": [
       "A data.frame: 6 × 7\n",
       "\\begin{tabular}{r|lllllll}\n",
       "  & age & sex & bmi & children & smoker & region & charges\\\\\n",
       "  & <int> & <chr> & <dbl> & <int> & <chr> & <chr> & <dbl>\\\\\n",
       "\\hline\n",
       "\t1 & 19 & female & 27.900 & 0 & yes & southwest & 16884.924\\\\\n",
       "\t2 & 18 & male   & 33.770 & 1 & no  & southeast &  1725.552\\\\\n",
       "\t3 & 28 & male   & 33.000 & 3 & no  & southeast &  4449.462\\\\\n",
       "\t4 & 33 & male   & 22.705 & 0 & no  & northwest & 21984.471\\\\\n",
       "\t5 & 32 & male   & 28.880 & 0 & no  & northwest &  3866.855\\\\\n",
       "\t6 & 31 & female & 25.740 & 0 & no  & southeast &  3756.622\\\\\n",
       "\\end{tabular}\n"
      ],
      "text/markdown": [
       "\n",
       "A data.frame: 6 × 7\n",
       "\n",
       "| <!--/--> | age &lt;int&gt; | sex &lt;chr&gt; | bmi &lt;dbl&gt; | children &lt;int&gt; | smoker &lt;chr&gt; | region &lt;chr&gt; | charges &lt;dbl&gt; |\n",
       "|---|---|---|---|---|---|---|---|\n",
       "| 1 | 19 | female | 27.900 | 0 | yes | southwest | 16884.924 |\n",
       "| 2 | 18 | male   | 33.770 | 1 | no  | southeast |  1725.552 |\n",
       "| 3 | 28 | male   | 33.000 | 3 | no  | southeast |  4449.462 |\n",
       "| 4 | 33 | male   | 22.705 | 0 | no  | northwest | 21984.471 |\n",
       "| 5 | 32 | male   | 28.880 | 0 | no  | northwest |  3866.855 |\n",
       "| 6 | 31 | female | 25.740 | 0 | no  | southeast |  3756.622 |\n",
       "\n"
      ],
      "text/plain": [
       "  age sex    bmi    children smoker region    charges  \n",
       "1 19  female 27.900 0        yes    southwest 16884.924\n",
       "2 18  male   33.770 1        no     southeast  1725.552\n",
       "3 28  male   33.000 3        no     southeast  4449.462\n",
       "4 33  male   22.705 0        no     northwest 21984.471\n",
       "5 32  male   28.880 0        no     northwest  3866.855\n",
       "6 31  female 25.740 0        no     southeast  3756.622"
      ]
     },
     "metadata": {},
     "output_type": "display_data"
    },
    {
     "data": {
      "text/html": [
       "1338"
      ],
      "text/latex": [
       "1338"
      ],
      "text/markdown": [
       "1338"
      ],
      "text/plain": [
       "[1] 1338"
      ]
     },
     "metadata": {},
     "output_type": "display_data"
    }
   ],
   "source": [
    "insurance <- read.csv(\"insurance.csv\")\n",
    "\n",
    "insurance <- na.omit(insurance) #removing NA observations\n",
    "head(insurance) #check the dataset loaded\n",
    "N <- nrow(insurance) #population size \n",
    "N"
   ]
  },
  {
   "cell_type": "code",
   "execution_count": 2,
   "id": "6a9aac4d-5b9b-4e99-9245-dcf06a0be0fb",
   "metadata": {
    "tags": []
   },
   "outputs": [
    {
     "data": {
      "text/html": [
       "<style>\n",
       ".list-inline {list-style: none; margin:0; padding: 0}\n",
       ".list-inline>li {display: inline-block}\n",
       ".list-inline>li:not(:last-child)::after {content: \"\\00b7\"; padding: 0 .5ex}\n",
       "</style>\n",
       "<ol class=list-inline><li>'northeast'</li><li>'northwest'</li><li>'southeast'</li><li>'southwest'</li></ol>\n"
      ],
      "text/latex": [
       "\\begin{enumerate*}\n",
       "\\item 'northeast'\n",
       "\\item 'northwest'\n",
       "\\item 'southeast'\n",
       "\\item 'southwest'\n",
       "\\end{enumerate*}\n"
      ],
      "text/markdown": [
       "1. 'northeast'\n",
       "2. 'northwest'\n",
       "3. 'southeast'\n",
       "4. 'southwest'\n",
       "\n",
       "\n"
      ],
      "text/plain": [
       "[1] \"northeast\" \"northwest\" \"southeast\" \"southwest\""
      ]
     },
     "metadata": {},
     "output_type": "display_data"
    },
    {
     "data": {
      "text/html": [
       "<style>\n",
       ".dl-inline {width: auto; margin:0; padding: 0}\n",
       ".dl-inline>dt, .dl-inline>dd {float: none; width: auto; display: inline-block}\n",
       ".dl-inline>dt::after {content: \":\\0020\"; padding-right: .5ex}\n",
       ".dl-inline>dt:not(:first-of-type) {padding-left: .5ex}\n",
       "</style><dl class=dl-inline><dt>northeast</dt><dd>324</dd><dt>northwest</dt><dd>325</dd><dt>southeast</dt><dd>364</dd><dt>southwest</dt><dd>325</dd></dl>\n"
      ],
      "text/latex": [
       "\\begin{description*}\n",
       "\\item[northeast] 324\n",
       "\\item[northwest] 325\n",
       "\\item[southeast] 364\n",
       "\\item[southwest] 325\n",
       "\\end{description*}\n"
      ],
      "text/markdown": [
       "northeast\n",
       ":   324northwest\n",
       ":   325southeast\n",
       ":   364southwest\n",
       ":   325\n",
       "\n"
      ],
      "text/plain": [
       "northeast northwest southeast southwest \n",
       "      324       325       364       325 "
      ]
     },
     "metadata": {},
     "output_type": "display_data"
    },
    {
     "data": {
      "text/html": [
       "<style>\n",
       ".dl-inline {width: auto; margin:0; padding: 0}\n",
       ".dl-inline>dt, .dl-inline>dd {float: none; width: auto; display: inline-block}\n",
       ".dl-inline>dt::after {content: \":\\0020\"; padding-right: .5ex}\n",
       ".dl-inline>dt:not(:first-of-type) {padding-left: .5ex}\n",
       "</style><dl class=dl-inline><dt>northeast</dt><dd>97</dd><dt>northwest</dt><dd>97</dd><dt>southeast</dt><dd>109</dd><dt>southwest</dt><dd>97</dd></dl>\n"
      ],
      "text/latex": [
       "\\begin{description*}\n",
       "\\item[northeast] 97\n",
       "\\item[northwest] 97\n",
       "\\item[southeast] 109\n",
       "\\item[southwest] 97\n",
       "\\end{description*}\n"
      ],
      "text/markdown": [
       "northeast\n",
       ":   97northwest\n",
       ":   97southeast\n",
       ":   109southwest\n",
       ":   97\n",
       "\n"
      ],
      "text/plain": [
       "northeast northwest southeast southwest \n",
       "       97        97       109        97 "
      ]
     },
     "metadata": {},
     "output_type": "display_data"
    }
   ],
   "source": [
    "N.h <- tapply(insurance$charges, insurance$region, length) #population size for different regions\n",
    "regions <- names(N.h) # name of the regions\n",
    "regions \n",
    "N.h\n",
    "\n",
    "\n",
    "n <- 400 #sample size total\n",
    "n.h.prop <- round( (N.h/N) * n) # WE ARE USING PROPORTIONAL ALLOCATION TO GET THE SAMPLE SIZE FOR EACH OF THEM\n",
    "n.h.prop"
   ]
  },
  {
   "cell_type": "code",
   "execution_count": 3,
   "id": "64d4b268-f0ab-4e67-bb4f-fc59eab9f05c",
   "metadata": {
    "tags": []
   },
   "outputs": [
    {
     "data": {
      "text/html": [
       "<style>\n",
       ".dl-inline {width: auto; margin:0; padding: 0}\n",
       ".dl-inline>dt, .dl-inline>dd {float: none; width: auto; display: inline-block}\n",
       ".dl-inline>dt::after {content: \":\\0020\"; padding-right: .5ex}\n",
       ".dl-inline>dt:not(:first-of-type) {padding-left: .5ex}\n",
       "</style><dl class=dl-inline><dt>northeast</dt><dd>13551.3176797835</dd><dt>northwest</dt><dd>13308.5845657732</dd><dt>southeast</dt><dd>15004.4260401835</dd><dt>southwest</dt><dd>13942.8636995876</dd></dl>\n"
      ],
      "text/latex": [
       "\\begin{description*}\n",
       "\\item[northeast] 13551.3176797835\n",
       "\\item[northwest] 13308.5845657732\n",
       "\\item[southeast] 15004.4260401835\n",
       "\\item[southwest] 13942.8636995876\n",
       "\\end{description*}\n"
      ],
      "text/markdown": [
       "northeast\n",
       ":   13551.3176797835northwest\n",
       ":   13308.5845657732southeast\n",
       ":   15004.4260401835southwest\n",
       ":   13942.8636995876\n",
       "\n"
      ],
      "text/plain": [
       "northeast northwest southeast southwest \n",
       " 13551.32  13308.58  15004.43  13942.86 "
      ]
     },
     "metadata": {},
     "output_type": "display_data"
    },
    {
     "data": {
      "text/html": [
       "<style>\n",
       ".dl-inline {width: auto; margin:0; padding: 0}\n",
       ".dl-inline>dt, .dl-inline>dd {float: none; width: auto; display: inline-block}\n",
       ".dl-inline>dt::after {content: \":\\0020\"; padding-right: .5ex}\n",
       ".dl-inline>dt:not(:first-of-type) {padding-left: .5ex}\n",
       "</style><dl class=dl-inline><dt>northeast</dt><dd>156936836.400049</dd><dt>northwest</dt><dd>141268262.865573</dd><dt>southeast</dt><dd>233259618.314625</dd><dt>southwest</dt><dd>156279408.057428</dd></dl>\n"
      ],
      "text/latex": [
       "\\begin{description*}\n",
       "\\item[northeast] 156936836.400049\n",
       "\\item[northwest] 141268262.865573\n",
       "\\item[southeast] 233259618.314625\n",
       "\\item[southwest] 156279408.057428\n",
       "\\end{description*}\n"
      ],
      "text/markdown": [
       "northeast\n",
       ":   156936836.400049northwest\n",
       ":   141268262.865573southeast\n",
       ":   233259618.314625southwest\n",
       ":   156279408.057428\n",
       "\n"
      ],
      "text/plain": [
       "northeast northwest southeast southwest \n",
       "156936836 141268263 233259618 156279408 "
      ]
     },
     "metadata": {},
     "output_type": "display_data"
    },
    {
     "data": {
      "text/html": [
       "<style>\n",
       ".dl-inline {width: auto; margin:0; padding: 0}\n",
       ".dl-inline>dt, .dl-inline>dd {float: none; width: auto; display: inline-block}\n",
       ".dl-inline>dt::after {content: \":\\0020\"; padding-right: .5ex}\n",
       ".dl-inline>dt:not(:first-of-type) {padding-left: .5ex}\n",
       "</style><dl class=dl-inline><dt>northeast</dt><dd>1064.67486964115</dd><dt>northwest</dt><dd>1010.79288972918</dd><dt>southeast</dt><dd>1224.40735503399</dd><dt>southwest</dt><dd>1063.14072493628</dd></dl>\n"
      ],
      "text/latex": [
       "\\begin{description*}\n",
       "\\item[northeast] 1064.67486964115\n",
       "\\item[northwest] 1010.79288972918\n",
       "\\item[southeast] 1224.40735503399\n",
       "\\item[southwest] 1063.14072493628\n",
       "\\end{description*}\n"
      ],
      "text/markdown": [
       "northeast\n",
       ":   1064.67486964115northwest\n",
       ":   1010.79288972918southeast\n",
       ":   1224.40735503399southwest\n",
       ":   1063.14072493628\n",
       "\n"
      ],
      "text/plain": [
       "northeast northwest southeast southwest \n",
       " 1064.675  1010.793  1224.407  1063.141 "
      ]
     },
     "metadata": {},
     "output_type": "display_data"
    },
    {
     "data": {
      "text/html": [
       "<table class=\"dataframe\">\n",
       "<caption>A matrix: 2 × 4 of type dbl</caption>\n",
       "<thead>\n",
       "\t<tr><th></th><th scope=col>northeast</th><th scope=col>northwest</th><th scope=col>southeast</th><th scope=col>southwest</th></tr>\n",
       "</thead>\n",
       "<tbody>\n",
       "\t<tr><th scope=row>ybar.h.prop</th><td>13551.318</td><td>13308.585</td><td>15004.426</td><td>13942.864</td></tr>\n",
       "\t<tr><th scope=row>se.h.prop</th><td> 1064.675</td><td> 1010.793</td><td> 1224.407</td><td> 1063.141</td></tr>\n",
       "</tbody>\n",
       "</table>\n"
      ],
      "text/latex": [
       "A matrix: 2 × 4 of type dbl\n",
       "\\begin{tabular}{r|llll}\n",
       "  & northeast & northwest & southeast & southwest\\\\\n",
       "\\hline\n",
       "\tybar.h.prop & 13551.318 & 13308.585 & 15004.426 & 13942.864\\\\\n",
       "\tse.h.prop &  1064.675 &  1010.793 &  1224.407 &  1063.141\\\\\n",
       "\\end{tabular}\n"
      ],
      "text/markdown": [
       "\n",
       "A matrix: 2 × 4 of type dbl\n",
       "\n",
       "| <!--/--> | northeast | northwest | southeast | southwest |\n",
       "|---|---|---|---|---|\n",
       "| ybar.h.prop | 13551.318 | 13308.585 | 15004.426 | 13942.864 |\n",
       "| se.h.prop |  1064.675 |  1010.793 |  1224.407 |  1063.141 |\n",
       "\n"
      ],
      "text/plain": [
       "            northeast northwest southeast southwest\n",
       "ybar.h.prop 13551.318 13308.585 15004.426 13942.864\n",
       "se.h.prop    1064.675  1010.793  1224.407  1063.141"
      ]
     },
     "metadata": {},
     "output_type": "display_data"
    },
    {
     "data": {
      "text/html": [
       "13982.7792923161"
      ],
      "text/latex": [
       "13982.7792923161"
      ],
      "text/markdown": [
       "13982.7792923161"
      ],
      "text/plain": [
       "[1] 13982.78"
      ]
     },
     "metadata": {},
     "output_type": "display_data"
    },
    {
     "data": {
      "text/html": [
       "551.714342231856"
      ],
      "text/latex": [
       "551.714342231856"
      ],
      "text/markdown": [
       "551.714342231856"
      ],
      "text/plain": [
       "[1] 551.7143"
      ]
     },
     "metadata": {},
     "output_type": "display_data"
    },
    {
     "data": {
      "text/html": [
       "<style>\n",
       ".list-inline {list-style: none; margin:0; padding: 0}\n",
       ".list-inline>li {display: inline-block}\n",
       ".list-inline>li:not(:last-child)::after {content: \"\\00b7\"; padding: 0 .5ex}\n",
       "</style>\n",
       "<ol class=list-inline><li>13982.7792923161</li><li>551.714342231856</li></ol>\n"
      ],
      "text/latex": [
       "\\begin{enumerate*}\n",
       "\\item 13982.7792923161\n",
       "\\item 551.714342231856\n",
       "\\end{enumerate*}\n"
      ],
      "text/markdown": [
       "1. 13982.7792923161\n",
       "2. 551.714342231856\n",
       "\n",
       "\n"
      ],
      "text/plain": [
       "[1] 13982.7793   551.7143"
      ]
     },
     "metadata": {},
     "output_type": "display_data"
    }
   ],
   "source": [
    "set.seed(0)  # Set a seed for reproducibility\n",
    "stratified_sample <- NULL  # Initialize an empty data frame for the stratified sample\n",
    "\n",
    "# Loop over each region to create a stratified sample\n",
    "for (i in 1:length(regions)) {\n",
    "  # Get row indices for the current region starting from northwest\n",
    "  row_indices <- which(insurance$region == regions[i])\n",
    "  \n",
    "  # Sample the indices without replacement\n",
    "  sample_indices <- sample(row_indices, n.h.prop[i], replace = FALSE)\n",
    "  \n",
    "  # Extract the rows for the sampled indices and select only the charges and age columns\n",
    "  stratified_sample <- rbind(stratified_sample, insurance[sample_indices, ])\n",
    "}\n",
    "\n",
    "\n",
    "ybar.h.prop <- tapply(stratified_sample$charges, stratified_sample$region, mean) #mean of charges for each strata sampled\n",
    "var.h.prop <- tapply(stratified_sample$charges, stratified_sample$region, var) #variance of charges for each strata sampled\n",
    "se.h.prop <- sqrt((1 - n.h.prop / N.h) * var.h.prop / n.h.prop) #standard error for each strata sampled\n",
    "\n",
    "ybar.str.prop <- sum(N.h / N * ybar.h.prop) #Estimated population mean using Stratified Sampling\n",
    "se.str.prop <- sqrt(sum((N.h / N)^2 * se.h.prop^2)) #Standard error of the estimated population mean\n",
    "str.prop <- c(ybar.str.prop, se.str.prop) #Combined both the Estimated population mean and the Standard error\n",
    "\n",
    "\n",
    "ybar.h.prop\n",
    "var.h.prop \n",
    "se.h.prop\n",
    "rbind(ybar.h.prop, se.h.prop) #binding the mean and standard error for each strata\n",
    "ybar.str.prop\n",
    "se.str.prop\n",
    "str.prop"
   ]
  },
  {
   "cell_type": "code",
   "execution_count": 4,
   "id": "42dbf578-7efb-4388-87ca-7334ea2524f2",
   "metadata": {},
   "outputs": [
    {
     "data": {
      "text/html": [
       "<style>\n",
       ".list-inline {list-style: none; margin:0; padding: 0}\n",
       ".list-inline>li {display: inline-block}\n",
       ".list-inline>li:not(:last-child)::after {content: \"\\00b7\"; padding: 0 .5ex}\n",
       "</style>\n",
       "<ol class=list-inline><li>12901.4191815416</li><li>15064.1394030905</li></ol>\n"
      ],
      "text/latex": [
       "\\begin{enumerate*}\n",
       "\\item 12901.4191815416\n",
       "\\item 15064.1394030905\n",
       "\\end{enumerate*}\n"
      ],
      "text/markdown": [
       "1. 12901.4191815416\n",
       "2. 15064.1394030905\n",
       "\n",
       "\n"
      ],
      "text/plain": [
       "[1] 12901.42 15064.14"
      ]
     },
     "metadata": {},
     "output_type": "display_data"
    }
   ],
   "source": [
    "# Obtain a 95% C.I. for our estimate of population mean\n",
    "lower = ybar.str.prop - 1.96*se.str.prop\n",
    "upper = ybar.str.prop + 1.96*se.str.prop\n",
    "c(lower, upper)"
   ]
  },
  {
   "cell_type": "markdown",
   "id": "34acf0f5-0cf3-4c80-9695-c6fb4db4a50f",
   "metadata": {},
   "source": [
    "We also decided to perform a stratified sampling on our data. The parameter of interest is the population mean medical costs billed by health insurance of each individuals in the U.S. We chose to use region to split our strata because we believe that there should be some level of variations between the medical costs in each strata. There are four regions in our data set, so we obtained four strata and used proportional allocation to decide the sample sizes for each of the strata. The total sample size is 400. As a result of the proportional allocation, we decided to sample 97 individuals from Northeast, Northwest, and Southwest, and sample 109 individuals from Southeast. Then we used R functions to obtain the stratified samples from each region and calculated the mean and standard error for each strata. To obtain a stratified sample estimate of population mean, we multiplied the sample mean of each strata by their relative population size and summed these results up. At the end, we obtained an estimate of 13982.78, which means that the population mean medical costs of individuals in the U.S. is estimated to be 13982.78 dollars. We also get the standard error of this estimate by applying the formula:______. This gave us a result of 551.71 dollars. Since we had an estimate of the population mean and its standard error, we also constructed a 95% confidence interval. The lower and upper bounds of this confidence interval are given by our estimate less or plus 1.96 times of the standard error. The result is (12901.42, 15064.14). An interpretation of the 95% confidence interval under the context of our project would be that over repeated samplings, approximately 95% of our confidence intervals will capture the true population mean of medical costs of individuals in U.S."
   ]
  },
  {
   "cell_type": "markdown",
   "id": "1116ec94-c278-4f12-b650-07c59cbcd037",
   "metadata": {},
   "source": []
  }
 ],
 "metadata": {
  "kernelspec": {
   "display_name": "R",
   "language": "R",
   "name": "ir"
  },
  "language_info": {
   "codemirror_mode": "r",
   "file_extension": ".r",
   "mimetype": "text/x-r-source",
   "name": "R",
   "pygments_lexer": "r",
   "version": "4.3.0"
  },
  "widgets": {
   "application/vnd.jupyter.widget-state+json": {
    "state": {},
    "version_major": 2,
    "version_minor": 0
   }
  }
 },
 "nbformat": 4,
 "nbformat_minor": 5
}
